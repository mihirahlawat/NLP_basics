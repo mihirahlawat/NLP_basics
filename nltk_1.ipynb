{
  "nbformat": 4,
  "nbformat_minor": 0,
  "metadata": {
    "colab": {
      "name": "nltk_1.ipynb",
      "provenance": [],
      "collapsed_sections": []
    },
    "kernelspec": {
      "name": "python3",
      "display_name": "Python 3"
    }
  },
  "cells": [
    {
      "cell_type": "markdown",
      "metadata": {
        "id": "664DujRRq0kL",
        "colab_type": "text"
      },
      "source": [
        "# *INTRODUCTION TO NLP*\n",
        "    COURSE - Microsoft: DEV288x\n",
        "    WEBSITE - edx.org\n",
        "    \n",
        "    This notebook is just a side by side rough attempt of the course.\n",
        "    Also this is my first google collaboratory notebook."
      ]
    },
    {
      "cell_type": "code",
      "metadata": {
        "id": "RALWSqcX2OgW",
        "colab_type": "code",
        "colab": {
          "base_uri": "https://localhost:8080/",
          "height": 306
        },
        "outputId": "88b886af-4f84-4f89-9c9f-9f5cac6552ab"
      },
      "source": [
        "import nltk\n",
        "nltk.download(\"gutenberg\")\n",
        "nltk.download(\"webtext\")\n",
        "nltk.download('punkt')\n",
        "nltk.download('stopwords')\n",
        "nltk.download('names')\n",
        "nltk.download('averaged_perceptron_tagger')\n",
        "nltk.download('movie_reviews')"
      ],
      "execution_count": 1,
      "outputs": [
        {
          "output_type": "stream",
          "text": [
            "[nltk_data] Downloading package gutenberg to /root/nltk_data...\n",
            "[nltk_data]   Package gutenberg is already up-to-date!\n",
            "[nltk_data] Downloading package webtext to /root/nltk_data...\n",
            "[nltk_data]   Package webtext is already up-to-date!\n",
            "[nltk_data] Downloading package punkt to /root/nltk_data...\n",
            "[nltk_data]   Package punkt is already up-to-date!\n",
            "[nltk_data] Downloading package stopwords to /root/nltk_data...\n",
            "[nltk_data]   Package stopwords is already up-to-date!\n",
            "[nltk_data] Downloading package names to /root/nltk_data...\n",
            "[nltk_data]   Package names is already up-to-date!\n",
            "[nltk_data] Downloading package averaged_perceptron_tagger to\n",
            "[nltk_data]     /root/nltk_data...\n",
            "[nltk_data]   Package averaged_perceptron_tagger is already up-to-\n",
            "[nltk_data]       date!\n",
            "[nltk_data] Downloading package movie_reviews to /root/nltk_data...\n",
            "[nltk_data]   Package movie_reviews is already up-to-date!\n"
          ],
          "name": "stdout"
        },
        {
          "output_type": "execute_result",
          "data": {
            "text/plain": [
              "True"
            ]
          },
          "metadata": {
            "tags": []
          },
          "execution_count": 1
        }
      ]
    },
    {
      "cell_type": "code",
      "metadata": {
        "id": "FbBgOv6B2WLu",
        "colab_type": "code",
        "outputId": "5ca37d08-c6a1-4002-f18f-1177a3f4c420",
        "colab": {
          "base_uri": "https://localhost:8080/",
          "height": 54
        }
      },
      "source": [
        "print(\"book ids = \",nltk.corpus.gutenberg.fileids())"
      ],
      "execution_count": 2,
      "outputs": [
        {
          "output_type": "stream",
          "text": [
            "book ids =  ['austen-emma.txt', 'austen-persuasion.txt', 'austen-sense.txt', 'bible-kjv.txt', 'blake-poems.txt', 'bryant-stories.txt', 'burgess-busterbrown.txt', 'carroll-alice.txt', 'chesterton-ball.txt', 'chesterton-brown.txt', 'chesterton-thursday.txt', 'edgeworth-parents.txt', 'melville-moby_dick.txt', 'milton-paradise.txt', 'shakespeare-caesar.txt', 'shakespeare-hamlet.txt', 'shakespeare-macbeth.txt', 'whitman-leaves.txt']\n"
          ],
          "name": "stdout"
        }
      ]
    },
    {
      "cell_type": "code",
      "metadata": {
        "id": "J3AL22UF2r1K",
        "colab_type": "code",
        "colab": {}
      },
      "source": [
        "alice = nltk.corpus.gutenberg.words(\"carroll-alice.txt\")"
      ],
      "execution_count": 0,
      "outputs": []
    },
    {
      "cell_type": "code",
      "metadata": {
        "id": "VGMf_-sZ4frY",
        "colab_type": "code",
        "outputId": "ec9fd754-4de3-4e77-944e-fe284ff5ecbd",
        "colab": {
          "base_uri": "https://localhost:8080/",
          "height": 71
        }
      },
      "source": [
        "print(\"len(alice) = \", len(alice))\n",
        "print(alice[:100])"
      ],
      "execution_count": 4,
      "outputs": [
        {
          "output_type": "stream",
          "text": [
            "len(alice) =  34110\n",
            "['[', 'Alice', \"'\", 's', 'Adventures', 'in', 'Wonderland', 'by', 'Lewis', 'Carroll', '1865', ']', 'CHAPTER', 'I', '.', 'Down', 'the', 'Rabbit', '-', 'Hole', 'Alice', 'was', 'beginning', 'to', 'get', 'very', 'tired', 'of', 'sitting', 'by', 'her', 'sister', 'on', 'the', 'bank', ',', 'and', 'of', 'having', 'nothing', 'to', 'do', ':', 'once', 'or', 'twice', 'she', 'had', 'peeped', 'into', 'the', 'book', 'her', 'sister', 'was', 'reading', ',', 'but', 'it', 'had', 'no', 'pictures', 'or', 'conversations', 'in', 'it', ',', \"'\", 'and', 'what', 'is', 'the', 'use', 'of', 'a', 'book', \",'\", 'thought', 'Alice', \"'\", 'without', 'pictures', 'or', 'conversation', \"?'\", 'So', 'she', 'was', 'considering', 'in', 'her', 'own', 'mind', '(', 'as', 'well', 'as', 'she', 'could', ',']\n"
          ],
          "name": "stdout"
        }
      ]
    },
    {
      "cell_type": "code",
      "metadata": {
        "id": "_VPStgt14xH0",
        "colab_type": "code",
        "outputId": "1d891a22-d599-4032-9e08-68e6a02e3df8",
        "colab": {
          "base_uri": "https://localhost:8080/",
          "height": 34
        }
      },
      "source": [
        "print(\"webtext ids = \",nltk.corpus.webtext.fileids())"
      ],
      "execution_count": 5,
      "outputs": [
        {
          "output_type": "stream",
          "text": [
            "webtext ids =  ['firefox.txt', 'grail.txt', 'overheard.txt', 'pirates.txt', 'singles.txt', 'wine.txt']\n"
          ],
          "name": "stdout"
        }
      ]
    },
    {
      "cell_type": "code",
      "metadata": {
        "id": "jh9IhC285I0N",
        "colab_type": "code",
        "outputId": "07135a26-0a4a-425d-a6e4-10cccfbbb5f0",
        "colab": {
          "base_uri": "https://localhost:8080/",
          "height": 71
        }
      },
      "source": [
        "web = nltk.corpus.webtext.words(\"grail.txt\")\n",
        "print(\"len(web) = \",len(web))\n",
        "print(web[:100])"
      ],
      "execution_count": 6,
      "outputs": [
        {
          "output_type": "stream",
          "text": [
            "len(web) =  16967\n",
            "['SCENE', '1', ':', '[', 'wind', ']', '[', 'clop', 'clop', 'clop', ']', 'KING', 'ARTHUR', ':', 'Whoa', 'there', '!', '[', 'clop', 'clop', 'clop', ']', 'SOLDIER', '#', '1', ':', 'Halt', '!', 'Who', 'goes', 'there', '?', 'ARTHUR', ':', 'It', 'is', 'I', ',', 'Arthur', ',', 'son', 'of', 'Uther', 'Pendragon', ',', 'from', 'the', 'castle', 'of', 'Camelot', '.', 'King', 'of', 'the', 'Britons', ',', 'defeator', 'of', 'the', 'Saxons', ',', 'sovereign', 'of', 'all', 'England', '!', 'SOLDIER', '#', '1', ':', 'Pull', 'the', 'other', 'one', '!', 'ARTHUR', ':', 'I', 'am', ',', '...', 'and', 'this', 'is', 'my', 'trusty', 'servant', 'Patsy', '.', 'We', 'have', 'ridden', 'the', 'length', 'and', 'breadth', 'of', 'the', 'land', 'in']\n"
          ],
          "name": "stdout"
        }
      ]
    },
    {
      "cell_type": "code",
      "metadata": {
        "id": "WWm4N0Of5XxF",
        "colab_type": "code",
        "outputId": "c81ace7d-4a16-41a9-84bc-182f4b7b14b2",
        "colab": {
          "base_uri": "https://localhost:8080/",
          "height": 255
        }
      },
      "source": [
        "nltk.word_tokenize(\"the man, he ran after it's $3.23 dog on 15/01/2019.\") "
      ],
      "execution_count": 7,
      "outputs": [
        {
          "output_type": "execute_result",
          "data": {
            "text/plain": [
              "['the',\n",
              " 'man',\n",
              " ',',\n",
              " 'he',\n",
              " 'ran',\n",
              " 'after',\n",
              " 'it',\n",
              " \"'s\",\n",
              " '$',\n",
              " '3.23',\n",
              " 'dog',\n",
              " 'on',\n",
              " '15/01/2019',\n",
              " '.']"
            ]
          },
          "metadata": {
            "tags": []
          },
          "execution_count": 7
        }
      ]
    },
    {
      "cell_type": "code",
      "metadata": {
        "id": "fdVMpP4csIPF",
        "colab_type": "code",
        "outputId": "058c5b85-86bc-40e2-8f28-a5a5a5c424e7",
        "colab": {
          "base_uri": "https://localhost:8080/",
          "height": 34
        }
      },
      "source": [
        "nltk.sent_tokenize(\"The man ran after it. The table down there? Yes, down there!\")"
      ],
      "execution_count": 8,
      "outputs": [
        {
          "output_type": "execute_result",
          "data": {
            "text/plain": [
              "['The man ran after it.', 'The table down there?', 'Yes, down there!']"
            ]
          },
          "metadata": {
            "tags": []
          },
          "execution_count": 8
        }
      ]
    },
    {
      "cell_type": "markdown",
      "metadata": {
        "id": "py1i4zLj4Ls7",
        "colab_type": "text"
      },
      "source": [
        "**Stopword Removal**"
      ]
    },
    {
      "cell_type": "code",
      "metadata": {
        "id": "XFmSKHrV4VTU",
        "colab_type": "code",
        "outputId": "72ebcae5-366e-4ebf-e4b9-17ebb8cdbe68",
        "colab": {
          "base_uri": "https://localhost:8080/",
          "height": 34
        }
      },
      "source": [
        "stoppers = \"a is of the this\".split()\n",
        "\n",
        "def RemoveStopWords(StopWords, txt):\n",
        "  newtxt = ' '.join([word for word in txt.split() if word not in StopWords])\n",
        "  return newtxt\n",
        "\n",
        "RemoveStopWords(stoppers, \"This is a test of the stop word removal code.\")"
      ],
      "execution_count": 9,
      "outputs": [
        {
          "output_type": "execute_result",
          "data": {
            "text/plain": [
              "'This test stop word removal code.'"
            ]
          },
          "metadata": {
            "tags": []
          },
          "execution_count": 9
        }
      ]
    },
    {
      "cell_type": "code",
      "metadata": {
        "id": "fOOJ42EX5NHB",
        "colab_type": "code",
        "outputId": "8fed2a8f-2244-4a55-b821-1671c6dd7e4a",
        "colab": {
          "base_uri": "https://localhost:8080/",
          "height": 88
        }
      },
      "source": [
        "from nltk.corpus import stopwords\n",
        "\n",
        "print(stopwords.fileids())\n",
        "\n",
        "stops = stopwords.words(\"english\")\n",
        "\n",
        "print(\"len(stops) = \",len(stops))\n",
        "\n",
        "RemoveStopWords(stops, \"This is a test of the stop word removal code.\")"
      ],
      "execution_count": 10,
      "outputs": [
        {
          "output_type": "stream",
          "text": [
            "['arabic', 'azerbaijani', 'danish', 'dutch', 'english', 'finnish', 'french', 'german', 'greek', 'hungarian', 'indonesian', 'italian', 'kazakh', 'nepali', 'norwegian', 'portuguese', 'romanian', 'russian', 'slovene', 'spanish', 'swedish', 'tajik', 'turkish']\n",
            "len(stops) =  179\n"
          ],
          "name": "stdout"
        },
        {
          "output_type": "execute_result",
          "data": {
            "text/plain": [
              "'This test stop word removal code.'"
            ]
          },
          "metadata": {
            "tags": []
          },
          "execution_count": 10
        }
      ]
    },
    {
      "cell_type": "markdown",
      "metadata": {
        "id": "WZVoVwpy6xKD",
        "colab_type": "text"
      },
      "source": [
        "**Case removal**"
      ]
    },
    {
      "cell_type": "code",
      "metadata": {
        "id": "mkfMRo8X6zQE",
        "colab_type": "code",
        "outputId": "4b73c33d-eaa6-430a-8a84-4bbe15030d23",
        "colab": {
          "base_uri": "https://localhost:8080/",
          "height": 34
        }
      },
      "source": [
        "s = \"The man ran after it. The table down there? Yes, down there!\"\n",
        "s.lower()"
      ],
      "execution_count": 11,
      "outputs": [
        {
          "output_type": "execute_result",
          "data": {
            "text/plain": [
              "'the man ran after it. the table down there? yes, down there!'"
            ]
          },
          "metadata": {
            "tags": []
          },
          "execution_count": 11
        }
      ]
    },
    {
      "cell_type": "markdown",
      "metadata": {
        "id": "msmv6JnK7FH8",
        "colab_type": "text"
      },
      "source": [
        "**Stemming**"
      ]
    },
    {
      "cell_type": "code",
      "metadata": {
        "id": "Oma119pt7GVe",
        "colab_type": "code",
        "outputId": "4a201274-d0a1-4d68-9012-b5da362b4d99",
        "colab": {
          "base_uri": "https://localhost:8080/",
          "height": 68
        }
      },
      "source": [
        "def stem_with_porter(words):\n",
        "  porter = nltk.PorterStemmer()\n",
        "  new_words = [porter.stem(w) for w in words]\n",
        "  return new_words\n",
        "\n",
        "def stem_with_lancaster(words):\n",
        "  porter = nltk.LancasterStemmer()\n",
        "  new_words = [porter.stem(w) for w in words]\n",
        "  return new_words\n",
        "\n",
        "str = \"I love to swim. I also love playing basketball, but right now I'm very tired.\"\n",
        "\n",
        "print(\"porter : \", stem_with_porter(str.split()))\n",
        "print()\n",
        "print(\"lancaster : \", stem_with_lancaster(str.split()))"
      ],
      "execution_count": 12,
      "outputs": [
        {
          "output_type": "stream",
          "text": [
            "porter :  ['I', 'love', 'to', 'swim.', 'I', 'also', 'love', 'play', 'basketball,', 'but', 'right', 'now', \"i'm\", 'veri', 'tired.']\n",
            "\n",
            "lancaster :  ['i', 'lov', 'to', 'swim.', 'i', 'also', 'lov', 'play', 'basketball,', 'but', 'right', 'now', \"i'm\", 'very', 'tired.']\n"
          ],
          "name": "stdout"
        }
      ]
    },
    {
      "cell_type": "markdown",
      "metadata": {
        "id": "KVMPRCKGUi_y",
        "colab_type": "text"
      },
      "source": [
        "**Text Exploration**"
      ]
    },
    {
      "cell_type": "markdown",
      "metadata": {
        "id": "JK7zAMDbUoz-",
        "colab_type": "text"
      },
      "source": [
        "Frequency Analysis"
      ]
    },
    {
      "cell_type": "code",
      "metadata": {
        "id": "6ogl_mfxUrTh",
        "colab_type": "code",
        "outputId": "4ad47f03-9286-4079-9d8e-ad7cc19df9c6",
        "colab": {
          "base_uri": "https://localhost:8080/",
          "height": 337
        }
      },
      "source": [
        "import nltk\n",
        "from nltk.corpus import gutenberg\n",
        "from nltk.probability import FreqDist\n",
        "\n",
        "raw = gutenberg.raw(\"austen-sense.txt\")\n",
        "fd_letters = FreqDist(raw)\n",
        "\n",
        "words = gutenberg.words(\"austen-sense.txt\")\n",
        "fd_words = FreqDist(words)\n",
        "\n",
        "sas = nltk.Text(words)\n",
        "\n",
        "import matplotlib.pyplot as plt\n",
        "plt.figure(figsize=(20,5))\n",
        "fd_letters.plot(100)"
      ],
      "execution_count": 13,
      "outputs": [
        {
          "output_type": "display_data",
          "data": {
            "image/png": "[encoded data removed]",
            "text/plain": [
              "<Figure size 1440x360 with 1 Axes>"
            ]
          },
          "metadata": {
            "tags": []
          }
        }
      ]
    },
    {
      "cell_type": "code",
      "metadata": {
        "id": "CrYRKHLTVurg",
        "colab_type": "code",
        "outputId": "9122af57-bc29-47d6-f68f-a1d980afe0af",
        "colab": {
          "base_uri": "https://localhost:8080/",
          "height": 383
        }
      },
      "source": [
        "import matplotlib.pyplot as plt\n",
        "plt.figure(figsize=(20,5))\n",
        "fd_words.plot(100)"
      ],
      "execution_count": 14,
      "outputs": [
        {
          "output_type": "display_data",
          "data": {
            "image/png": "[encoded data removed]",
            "text/plain": [
              "<Figure size 1440x360 with 1 Axes>"
            ]
          },
          "metadata": {
            "tags": []
          }
        }
      ]
    },
    {
      "cell_type": "markdown",
      "metadata": {
        "id": "XexX6AmUWHmA",
        "colab_type": "text"
      },
      "source": [
        "Collocations"
      ]
    },
    {
      "cell_type": "code",
      "metadata": {
        "id": "dEwn95IWWJ-F",
        "colab_type": "code",
        "outputId": "30a05bbb-7591-4b38-a948-7e9efe636df3",
        "colab": {
          "base_uri": "https://localhost:8080/",
          "height": 85
        }
      },
      "source": [
        "sas.collocations()"
      ],
      "execution_count": 15,
      "outputs": [
        {
          "output_type": "stream",
          "text": [
            "Colonel Brandon; Sir John; Lady Middleton; Miss Dashwood; every thing;\n",
            "thousand pounds; dare say; Miss Steeles; said Elinor; Miss Steele;\n",
            "every body; John Dashwood; great deal; Harley Street; Berkeley Street;\n",
            "Miss Dashwoods; young man; Combe Magna; every day; next morning\n"
          ],
          "name": "stdout"
        }
      ]
    },
    {
      "cell_type": "markdown",
      "metadata": {
        "id": "kPIc-ieNWbmz",
        "colab_type": "text"
      },
      "source": [
        "Long words"
      ]
    },
    {
      "cell_type": "code",
      "metadata": {
        "id": "Dlo4jDO_WeDE",
        "colab_type": "code",
        "outputId": "9b9ab108-8fa2-4d60-cc99-68461599ac5b",
        "colab": {
          "base_uri": "https://localhost:8080/",
          "height": 272
        }
      },
      "source": [
        "LongWords = [w for w in set(words) if len(w)>13]\n",
        "LongWords[:15]"
      ],
      "execution_count": 16,
      "outputs": [
        {
          "output_type": "execute_result",
          "data": {
            "text/plain": [
              "['enfranchisement',\n",
              " 'encouragements',\n",
              " 'unsuitableness',\n",
              " 'unintelligible',\n",
              " 'incautiousness',\n",
              " 'inconsiderable',\n",
              " 'irreconcilable',\n",
              " 'companionableness',\n",
              " 'disinclination',\n",
              " 'connoisseurship',\n",
              " 'reasonableness',\n",
              " 'Disappointment',\n",
              " 'distinguishing',\n",
              " 'inconveniences',\n",
              " 'circumspection']"
            ]
          },
          "metadata": {
            "tags": []
          },
          "execution_count": 16
        }
      ]
    },
    {
      "cell_type": "markdown",
      "metadata": {
        "id": "fj5g8km2XJtw",
        "colab_type": "text"
      },
      "source": [
        "Concordance Views"
      ]
    },
    {
      "cell_type": "code",
      "metadata": {
        "id": "27VHy_7uXMeB",
        "colab_type": "code",
        "outputId": "3f7a7261-4921-46d1-a014-99f1c42dc75d",
        "colab": {
          "base_uri": "https://localhost:8080/",
          "height": 629
        }
      },
      "source": [
        "sas.concordance(\"affectionately\")\n",
        "print()\n",
        "\n",
        "sas.concordance(\"correspondence\")\n",
        "print()\n",
        "\n",
        "sas.concordance(\"dare\")"
      ],
      "execution_count": 17,
      "outputs": [
        {
          "output_type": "stream",
          "text": [
            "Displaying 2 of 2 matches:\n",
            "before . She took them all most affectionately by the hand , and expressed gre\n",
            "ed , took her hand , kissed her affectionately several times , and then gave w\n",
            "\n",
            "Displaying 4 of 4 matches:\n",
            "ould not be maintained if their correspondence were to pass through Sir John '\n",
            "ve been Edward ' s gift ; but a correspondence between them by letter , could \n",
            "she had no doubt , and of their correspondence she was not astonished to hear \n",
            "e of Edward afforded her by the correspondence , for his name was not even men\n",
            "\n",
            "Displaying 25 of 36 matches:\n",
            " not know what he was talking of , I dare say ; ten to one but he was light - \n",
            "l . The assistance he thought of , I dare say , was only such as might be reas\n",
            "g , if I have plenty of money , as I dare say I shall , we may think about bui\n",
            ", you will make conquests enough , I dare say , one way or other . Poor Brando\n",
            "e . He is the curate of the parish I dare say .\" \" No , THAT he is not . He is\n",
            "m . He was afraid of catching cold I dare say , and invented this trick for ge\n",
            "ve it in my power to return , that I dare not engage for it at all .\" \" Oh ! h\n",
            "and as like him as she can stare . I dare say the Colonel will leave her all h\n",
            "t Miss Williams and , by the bye , I dare say it is , because he looked so con\n",
            " \" are of such a nature -- that -- I dare not flatter myself \"-- He stopt . Mr\n",
            "nd MY wealth are very much alike , I dare say ; and without them , as the worl\n",
            " unites beauty with utility -- and I dare say it is a picturesque one too , be\n",
            ", you know . Not above ten miles , I dare say .\" \" Much nearer thirty ,\" said \n",
            "h my uncle at Weymouth . However , I dare say we should have seen a great deal\n",
            "t if mama had not objected to it , I dare say he would have liked it of all th\n",
            "ill think my question an odd one , I dare say ,\" said Lucy to her one day , as\n",
            "an inquiry into her character .\" \" I dare say you are , and I am sure I do not\n",
            "ave had no idea of it before ; for I dare say he never dropped the smallest hi\n",
            "or she would never approve of it , I dare say . I shall have no fortune , and \n",
            " to Elinor . \" You know his hand , I dare say , a charming one it is ; but tha\n",
            "o well as usual .-- He was tired , I dare say , for he had just filled the she\n",
            "talking of their favourite beaux , I dare say .\" \" No sister ,\" cried Lucy , \"\n",
            "ng significantly round at them , \" I dare say Lucy ' s beau is quite as modest\n",
            " , for you are a party concerned . I dare say you have seen enough of Edward t\n",
            "h pleasure to meet you there ! But I dare say you will go for all that . To be\n"
          ],
          "name": "stdout"
        }
      ]
    },
    {
      "cell_type": "markdown",
      "metadata": {
        "id": "yktdq5yaXzVm",
        "colab_type": "text"
      },
      "source": [
        "Other Exploration Views"
      ]
    },
    {
      "cell_type": "code",
      "metadata": {
        "id": "421a3OQzX2fH",
        "colab_type": "code",
        "outputId": "c3a258ee-e566-4404-d16f-87c4617d153b",
        "colab": {
          "base_uri": "https://localhost:8080/",
          "height": 51
        }
      },
      "source": [
        "sas.similar(\"affection\")"
      ],
      "execution_count": 18,
      "outputs": [
        {
          "output_type": "stream",
          "text": [
            "attention time regard mother love heart opinion sister wishes wife\n",
            "arrival marianne kindness family it marriage sisters sake conduct mind\n"
          ],
          "name": "stdout"
        }
      ]
    },
    {
      "cell_type": "code",
      "metadata": {
        "id": "KnXqnBCHX53d",
        "colab_type": "code",
        "outputId": "a88ea927-9a0c-4eb6-9c05-fd71778a8306",
        "colab": {
          "base_uri": "https://localhost:8080/",
          "height": 295
        }
      },
      "source": [
        "import numpy as np\n",
        "import matplotlib.pyplot as plt\n",
        "\n",
        "from nltk.draw.dispersion import dispersion_plot\n",
        "\n",
        "dispersion_plot(words,['sense','love','heart','listen','man','woman'])\n",
        "# Dont know what's the problem. Maybe something in google colab.\n",
        "plt.show()"
      ],
      "execution_count": 19,
      "outputs": [
        {
          "output_type": "display_data",
          "data": {
            "image/png": "[encoded data removed]",
            "text/plain": [
              "<Figure size 432x288 with 1 Axes>"
            ]
          },
          "metadata": {
            "tags": []
          }
        }
      ]
    },
    {
      "cell_type": "markdown",
      "metadata": {
        "id": "HMHpSoZLpk7j",
        "colab_type": "text"
      },
      "source": [
        "**Building Features**"
      ]
    },
    {
      "cell_type": "markdown",
      "metadata": {
        "id": "0YHZOI4BpoD3",
        "colab_type": "text"
      },
      "source": [
        "Bag of Words(BOW)"
      ]
    },
    {
      "cell_type": "markdown",
      "metadata": {
        "id": "UiRpUkSAp70l",
        "colab_type": "text"
      },
      "source": [
        "N-Grams"
      ]
    },
    {
      "cell_type": "markdown",
      "metadata": {
        "id": "zw1znrEOp9ZD",
        "colab_type": "text"
      },
      "source": [
        "Morphological Parsing"
      ]
    },
    {
      "cell_type": "markdown",
      "metadata": {
        "id": "40FDLs7NqmyZ",
        "colab_type": "text"
      },
      "source": [
        "Term Document Inverse Document Frequency(TD/IDF)"
      ]
    },
    {
      "cell_type": "markdown",
      "metadata": {
        "id": "SyZNAIyvrJqe",
        "colab_type": "text"
      },
      "source": [
        "Word Sense Diambiguation(WSD)"
      ]
    },
    {
      "cell_type": "markdown",
      "metadata": {
        "id": "Axien345siYa",
        "colab_type": "text"
      },
      "source": [
        "Anaphora Resolution"
      ]
    },
    {
      "cell_type": "markdown",
      "metadata": {
        "id": "QBSNt68wsmGE",
        "colab_type": "text"
      },
      "source": [
        "Part-of-Speech(POS) Tagging\n",
        "\n",
        "Tagsets :-\n",
        "\n",
        "*   Brown corpus (87 tags)\n",
        "*   C5 tagset (61 tags)\n",
        "*   Penn Treebank (45 tags)\n",
        "\n",
        "Types of Taggers :-\n",
        "\n",
        "*   Rule-based (eg. Regular expression)\n",
        "*   Lookup (Unigram)\n",
        "*   N-Gram\n",
        "*   Hybrid and Backoff\n",
        "*   Brill Tagger\n",
        "*   HMM Tagger (Hidden Markov Model)"
      ]
    },
    {
      "cell_type": "code",
      "metadata": {
        "id": "UDjkw1tJVTjI",
        "colab_type": "code",
        "outputId": "9a5260d0-f2ed-4be5-bea3-c89116d43351",
        "colab": {
          "base_uri": "https://localhost:8080/",
          "height": 34
        }
      },
      "source": [
        "nltk.pos_tag(\"Hello! How you doin?\".split())"
      ],
      "execution_count": 20,
      "outputs": [
        {
          "output_type": "execute_result",
          "data": {
            "text/plain": [
              "[('Hello!', 'NNP'), ('How', 'NNP'), ('you', 'PRP'), ('doin?', 'VBP')]"
            ]
          },
          "metadata": {
            "tags": []
          },
          "execution_count": 20
        }
      ]
    },
    {
      "cell_type": "code",
      "metadata": {
        "id": "Aqdi4RrAaYHp",
        "colab_type": "code",
        "outputId": "d447784c-8315-48a5-ebe1-6e3ada1fc7b9",
        "colab": {
          "base_uri": "https://localhost:8080/",
          "height": 187
        }
      },
      "source": [
        "nltk.pos_tag(\"They refuse to permit us to obtain the refuse permit\".split())"
      ],
      "execution_count": 21,
      "outputs": [
        {
          "output_type": "execute_result",
          "data": {
            "text/plain": [
              "[('They', 'PRP'),\n",
              " ('refuse', 'VBP'),\n",
              " ('to', 'TO'),\n",
              " ('permit', 'VB'),\n",
              " ('us', 'PRP'),\n",
              " ('to', 'TO'),\n",
              " ('obtain', 'VB'),\n",
              " ('the', 'DT'),\n",
              " ('refuse', 'NN'),\n",
              " ('permit', 'NN')]"
            ]
          },
          "metadata": {
            "tags": []
          },
          "execution_count": 21
        }
      ]
    },
    {
      "cell_type": "markdown",
      "metadata": {
        "id": "OcmGs5dmc6hy",
        "colab_type": "text"
      },
      "source": [
        "**Classical NLP Applications**"
      ]
    },
    {
      "cell_type": "markdown",
      "metadata": {
        "id": "5QauaiWcc_UE",
        "colab_type": "text"
      },
      "source": [
        "Name Gender Classifier"
      ]
    },
    {
      "cell_type": "code",
      "metadata": {
        "id": "lmmYGyFOdCCY",
        "colab_type": "code",
        "outputId": "b2b1b093-3cba-4d1d-a35d-04cc28f15133",
        "colab": {
          "base_uri": "https://localhost:8080/",
          "height": 561
        }
      },
      "source": [
        "import nltk \n",
        "\n",
        "names = [(name, 'male') for name in nltk.corpus.names.words(\"male.txt\")]\n",
        "names += [(name, 'female') for name in nltk.corpus.names.words(\"female.txt\")]\n",
        "\n",
        "def extract_gender_features(name):\n",
        "  name = name.lower()\n",
        "  features = {}\n",
        "  features[\"suffix\"] = name[-1:]\n",
        "  features[\"suffix2\"] = name[-2:] if len(name)>1 else name[0]\n",
        "  features[\"suffix3\"] = name[-3:] if len(name)>2 else name[0]\n",
        "  features[\"prefix\"] = name[:1]\n",
        "  features[\"prefix2\"] = name[:2] if len(name)>1 else name[0]\n",
        "  features[\"prefix3\"] = name[:3] if len(name)>2 else name[0]\n",
        "  features[\"prefix4\"] = name[:4] if len(name)>3 else name[0]\n",
        "  features[\"prefix5\"] = name[:5] if len(name)>4 else name[0]\n",
        "  \n",
        "  return features\n",
        "\n",
        "data = [(extract_gender_features(name),gender) for (name,gender) in names]\n",
        "\n",
        "import random\n",
        "random.shuffle(data)\n",
        "\n",
        "dataCount = len(data)\n",
        "trainCount = int(.8*dataCount)\n",
        "\n",
        "trainData = data[:trainCount]\n",
        "testData = data[trainCount:]\n",
        "\n",
        "bayes = nltk.NaiveBayesClassifier.train(trainData)\n",
        "\n",
        "def classify(name):\n",
        "  label = bayes.classify(extract_gender_features(name))\n",
        "  print(\"name = \",name,\"classified as = \",label)\n",
        "  return\n",
        "\n",
        "print(\"trainData accuracy = \",nltk.classify.accuracy(bayes, trainData))\n",
        "print(\"testData accuracy = \",nltk.classify.accuracy(bayes, testData))\n",
        "\n",
        "classify('alex')\n",
        "classify('alexa')\n",
        "classify('david')\n",
        "classify('susan')\n",
        "\n",
        "bayes.show_most_informative_features(25)"
      ],
      "execution_count": 22,
      "outputs": [
        {
          "output_type": "stream",
          "text": [
            "trainData accuracy =  0.9210070810385523\n",
            "testData accuracy =  0.8602894902454373\n",
            "name =  alex classified as =  male\n",
            "name =  alexa classified as =  female\n",
            "name =  david classified as =  male\n",
            "name =  susan classified as =  female\n",
            "Most Informative Features\n",
            "                 suffix2 = 'na'           female : male   =     82.6 : 1.0\n",
            "                 suffix2 = 'ia'           female : male   =     33.5 : 1.0\n",
            "                  suffix = 'a'            female : male   =     33.2 : 1.0\n",
            "                 suffix2 = 'ra'           female : male   =     30.1 : 1.0\n",
            "                 suffix2 = 'rd'             male : female =     27.9 : 1.0\n",
            "                 suffix2 = 'ta'           female : male   =     27.5 : 1.0\n",
            "                  suffix = 'k'              male : female =     27.0 : 1.0\n",
            "                 suffix2 = 'us'             male : female =     26.5 : 1.0\n",
            "                 suffix2 = 'sa'           female : male   =     26.2 : 1.0\n",
            "                 suffix3 = 'ard'            male : female =     25.2 : 1.0\n",
            "                 suffix2 = 'do'             male : female =     22.8 : 1.0\n",
            "                 suffix2 = 'ch'             male : female =     22.8 : 1.0\n",
            "                 suffix3 = 'ita'          female : male   =     21.7 : 1.0\n",
            "                 suffix3 = 'tta'          female : male   =     21.2 : 1.0\n",
            "                 suffix2 = 'rt'             male : female =     19.8 : 1.0\n",
            "                 suffix3 = 'ana'          female : male   =     19.5 : 1.0\n",
            "                 suffix2 = 'ld'             male : female =     19.0 : 1.0\n",
            "                 suffix2 = 'os'             male : female =     18.4 : 1.0\n",
            "                 suffix3 = 'nne'          female : male   =     15.6 : 1.0\n",
            "                  suffix = 'p'              male : female =     15.3 : 1.0\n",
            "                 suffix3 = 'old'            male : female =     15.0 : 1.0\n",
            "                  suffix = 'f'              male : female =     14.0 : 1.0\n",
            "                 prefix2 = 'fo'             male : female =     13.9 : 1.0\n",
            "                 suffix3 = 'son'            male : female =     13.5 : 1.0\n",
            "                 prefix3 = 'tha'            male : female =     13.0 : 1.0\n"
          ],
          "name": "stdout"
        }
      ]
    },
    {
      "cell_type": "code",
      "metadata": {
        "id": "poa0ywZ3fj-i",
        "colab_type": "code",
        "outputId": "9cc069d0-27c6-4a54-8c19-6ed5d2568122",
        "colab": {
          "base_uri": "https://localhost:8080/",
          "height": 442
        }
      },
      "source": [
        "errors = []\n",
        "\n",
        "for (name,label) in names:\n",
        "  if bayes.classify(extract_gender_features(name)) !=label:\n",
        "    errors.append({\"name : \":name,\"label : \":label})\n",
        "    \n",
        "errors[:25]"
      ],
      "execution_count": 23,
      "outputs": [
        {
          "output_type": "execute_result",
          "data": {
            "text/plain": [
              "[{'label : ': 'male', 'name : ': 'Addie'},\n",
              " {'label : ': 'male', 'name : ': 'Aditya'},\n",
              " {'label : ': 'male', 'name : ': 'Adrien'},\n",
              " {'label : ': 'male', 'name : ': 'Alaa'},\n",
              " {'label : ': 'male', 'name : ': 'Alexis'},\n",
              " {'label : ': 'male', 'name : ': 'Ali'},\n",
              " {'label : ': 'male', 'name : ': 'Alix'},\n",
              " {'label : ': 'male', 'name : ': 'Allie'},\n",
              " {'label : ': 'male', 'name : ': 'Allin'},\n",
              " {'label : ': 'male', 'name : ': 'Allyn'},\n",
              " {'label : ': 'male', 'name : ': 'Andie'},\n",
              " {'label : ': 'male', 'name : ': 'Andre'},\n",
              " {'label : ': 'male', 'name : ': 'Andrea'},\n",
              " {'label : ': 'male', 'name : ': 'Andri'},\n",
              " {'label : ': 'male', 'name : ': 'Andy'},\n",
              " {'label : ': 'male', 'name : ': 'Angel'},\n",
              " {'label : ': 'male', 'name : ': 'Angie'},\n",
              " {'label : ': 'male', 'name : ': 'Antoine'},\n",
              " {'label : ': 'male', 'name : ': 'Antoni'},\n",
              " {'label : ': 'male', 'name : ': 'Ari'},\n",
              " {'label : ': 'male', 'name : ': 'Arie'},\n",
              " {'label : ': 'male', 'name : ': 'Ariel'},\n",
              " {'label : ': 'male', 'name : ': 'Ashley'},\n",
              " {'label : ': 'male', 'name : ': 'Aube'},\n",
              " {'label : ': 'male', 'name : ': 'Aubrey'}]"
            ]
          },
          "metadata": {
            "tags": []
          },
          "execution_count": 23
        }
      ]
    },
    {
      "cell_type": "markdown",
      "metadata": {
        "id": "Elqj2zGYjgbK",
        "colab_type": "text"
      },
      "source": [
        "Sentiment Analysis"
      ]
    },
    {
      "cell_type": "code",
      "metadata": {
        "id": "C69Zsf6bji7N",
        "colab_type": "code",
        "colab": {}
      },
      "source": [
        "from nltk.corpus import movie_reviews as reviews\n",
        "import random\n",
        "\n",
        "docs = [(list(reviews.words(id)),cat) for cat in reviews.categories() for id in reviews.fileids(cat)]\n",
        "random.shuffle(docs)\n",
        "\n",
        "fd = nltk.FreqDist(word.lower() for word in reviews.words())\n",
        "topKeys = [key for (key,value) in fd.most_common(2000)]"
      ],
      "execution_count": 0,
      "outputs": []
    },
    {
      "cell_type": "code",
      "metadata": {
        "id": "P59zU2iSla2S",
        "colab_type": "code",
        "outputId": "9421a385-dc05-499a-a7da-8c1df2ac1c15",
        "colab": {
          "base_uri": "https://localhost:8080/",
          "height": 408
        }
      },
      "source": [
        "import nltk\n",
        "\n",
        "def review_features(doc):\n",
        "  docSet = set(doc)\n",
        "  features = {}\n",
        "  \n",
        "  for word in topKeys:\n",
        "    features[word] = (word in docSet)\n",
        "  \n",
        "  return features\n",
        "\n",
        "data = [(review_features(doc),label) for (doc,label) in docs]\n",
        "\n",
        "dataCount = len(data)\n",
        "trainCount = int(.8*dataCount)\n",
        "\n",
        "trainData = data[:trainCount]\n",
        "testData = data[trainCount:]\n",
        "\n",
        "\n",
        "# This is a unigram model \n",
        "# TODO : Create bigram and trigram features for better results\n",
        "bayes2 = nltk.NaiveBayesClassifier.train(trainData)\n",
        "\n",
        "print(\"trainData accuracy = \",nltk.classify.accuracy(bayes2, trainData))\n",
        "print(\"testData accuracy = \",nltk.classify.accuracy(bayes2, testData))\n",
        "\n",
        "bayes2.show_most_informative_features(20)"
      ],
      "execution_count": 25,
      "outputs": [
        {
          "output_type": "stream",
          "text": [
            "trainData accuracy =  0.870625\n",
            "testData accuracy =  0.8075\n",
            "Most Informative Features\n",
            "             outstanding = True              pos : neg    =     11.0 : 1.0\n",
            "                   mulan = True              pos : neg    =      8.8 : 1.0\n",
            "                  seagal = True              neg : pos    =      7.6 : 1.0\n",
            "             wonderfully = True              pos : neg    =      6.6 : 1.0\n",
            "                  poorly = True              neg : pos    =      6.4 : 1.0\n",
            "                    lame = True              neg : pos    =      5.5 : 1.0\n",
            "                   damon = True              pos : neg    =      5.3 : 1.0\n",
            "                  wasted = True              neg : pos    =      5.1 : 1.0\n",
            "              ridiculous = True              neg : pos    =      4.9 : 1.0\n",
            "                    dull = True              neg : pos    =      4.8 : 1.0\n",
            "                   damme = True              neg : pos    =      4.8 : 1.0\n",
            "                   awful = True              neg : pos    =      4.6 : 1.0\n",
            "                   waste = True              neg : pos    =      4.6 : 1.0\n",
            "                   bland = True              neg : pos    =      4.6 : 1.0\n",
            "                     era = True              pos : neg    =      4.5 : 1.0\n",
            "                    jedi = True              pos : neg    =      4.3 : 1.0\n",
            "               pointless = True              neg : pos    =      4.3 : 1.0\n",
            "                   flynt = True              pos : neg    =      4.2 : 1.0\n",
            "                terrific = True              pos : neg    =      4.1 : 1.0\n",
            "                 unfunny = True              neg : pos    =      4.1 : 1.0\n"
          ],
          "name": "stdout"
        }
      ]
    },
    {
      "cell_type": "code",
      "metadata": {
        "id": "v51aviQYISqj",
        "colab_type": "code",
        "colab": {}
      },
      "source": [
        ""
      ],
      "execution_count": 0,
      "outputs": []
    }
  ]
}