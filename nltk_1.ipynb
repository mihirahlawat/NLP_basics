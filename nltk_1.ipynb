{
  "nbformat": 4,
  "nbformat_minor": 0,
  "metadata": {
    "colab": {
      "name": "nltk_1.ipynb",
      "version": "0.3.2",
      "provenance": [],
      "collapsed_sections": [],
      "include_colab_link": true
    },
    "kernelspec": {
      "name": "python3",
      "display_name": "Python 3"
    }
  },
  "cells": [
    {
      "cell_type": "markdown",
      "metadata": {
        "id": "view-in-github",
        "colab_type": "text"
      },
      "source": [
        "<a href=\"https://colab.research.google.com/github/mihirahlawat/NLP_basics/blob/master/nltk_1.ipynb\" target=\"_parent\"><img src=\"https://colab.research.google.com/assets/colab-badge.svg\" alt=\"Open In Colab\"/></a>"
      ]
    },
    {
      "metadata": {
        "id": "664DujRRq0kL",
        "colab_type": "text"
      },
      "cell_type": "markdown",
      "source": [
        "# *INTRODUCTION TO NLP*\n",
        "    COURSE - Microsoft: DEV288x\n",
        "    WEBSITE - edx.org\n",
        "    \n",
        "    This notebook is just a side by side rough attempt of the course.\n",
        "    Also this is my first google collaboratory notebook."
      ]
    },
    {
      "metadata": {
        "id": "RALWSqcX2OgW",
        "colab_type": "code",
        "colab": {}
      },
      "cell_type": "code",
      "source": [
        "import nltk\n",
        "#nltk.download(\"all\")"
      ],
      "execution_count": 0,
      "outputs": []
    },
    {
      "metadata": {
        "id": "FbBgOv6B2WLu",
        "colab_type": "code",
        "outputId": "464809e8-5055-404c-9431-cbd8deaf443e",
        "colab": {
          "base_uri": "https://localhost:8080/",
          "height": 54
        }
      },
      "cell_type": "code",
      "source": [
        "print(\"book ids = \",nltk.corpus.gutenberg.fileids())"
      ],
      "execution_count": 4,
      "outputs": [
        {
          "output_type": "stream",
          "text": [
            "book ids =  ['austen-emma.txt', 'austen-persuasion.txt', 'austen-sense.txt', 'bible-kjv.txt', 'blake-poems.txt', 'bryant-stories.txt', 'burgess-busterbrown.txt', 'carroll-alice.txt', 'chesterton-ball.txt', 'chesterton-brown.txt', 'chesterton-thursday.txt', 'edgeworth-parents.txt', 'melville-moby_dick.txt', 'milton-paradise.txt', 'shakespeare-caesar.txt', 'shakespeare-hamlet.txt', 'shakespeare-macbeth.txt', 'whitman-leaves.txt']\n"
          ],
          "name": "stdout"
        }
      ]
    },
    {
      "metadata": {
        "id": "J3AL22UF2r1K",
        "colab_type": "code",
        "colab": {}
      },
      "cell_type": "code",
      "source": [
        "alice = nltk.corpus.gutenberg.words(\"carroll-alice.txt\")"
      ],
      "execution_count": 0,
      "outputs": []
    },
    {
      "metadata": {
        "id": "VGMf_-sZ4frY",
        "colab_type": "code",
        "outputId": "81883777-1508-446c-8e47-81617740fa5b",
        "colab": {
          "base_uri": "https://localhost:8080/",
          "height": 71
        }
      },
      "cell_type": "code",
      "source": [
        "print(\"len(alice) = \", len(alice))\n",
        "print(alice[:100])"
      ],
      "execution_count": 6,
      "outputs": [
        {
          "output_type": "stream",
          "text": [
            "len(alice) =  34110\n",
            "['[', 'Alice', \"'\", 's', 'Adventures', 'in', 'Wonderland', 'by', 'Lewis', 'Carroll', '1865', ']', 'CHAPTER', 'I', '.', 'Down', 'the', 'Rabbit', '-', 'Hole', 'Alice', 'was', 'beginning', 'to', 'get', 'very', 'tired', 'of', 'sitting', 'by', 'her', 'sister', 'on', 'the', 'bank', ',', 'and', 'of', 'having', 'nothing', 'to', 'do', ':', 'once', 'or', 'twice', 'she', 'had', 'peeped', 'into', 'the', 'book', 'her', 'sister', 'was', 'reading', ',', 'but', 'it', 'had', 'no', 'pictures', 'or', 'conversations', 'in', 'it', ',', \"'\", 'and', 'what', 'is', 'the', 'use', 'of', 'a', 'book', \",'\", 'thought', 'Alice', \"'\", 'without', 'pictures', 'or', 'conversation', \"?'\", 'So', 'she', 'was', 'considering', 'in', 'her', 'own', 'mind', '(', 'as', 'well', 'as', 'she', 'could', ',']\n"
          ],
          "name": "stdout"
        }
      ]
    },
    {
      "metadata": {
        "id": "_VPStgt14xH0",
        "colab_type": "code",
        "outputId": "74b1ab38-87d0-4e0e-d012-c609e4727c37",
        "colab": {
          "base_uri": "https://localhost:8080/",
          "height": 34
        }
      },
      "cell_type": "code",
      "source": [
        "print(\"webtext ids = \",nltk.corpus.webtext.fileids())"
      ],
      "execution_count": 7,
      "outputs": [
        {
          "output_type": "stream",
          "text": [
            "webtext ids =  ['firefox.txt', 'grail.txt', 'overheard.txt', 'pirates.txt', 'singles.txt', 'wine.txt']\n"
          ],
          "name": "stdout"
        }
      ]
    },
    {
      "metadata": {
        "id": "jh9IhC285I0N",
        "colab_type": "code",
        "outputId": "5c588c43-9989-42e4-e435-984df41ee2e5",
        "colab": {
          "base_uri": "https://localhost:8080/",
          "height": 71
        }
      },
      "cell_type": "code",
      "source": [
        "web = nltk.corpus.webtext.words(\"grail.txt\")\n",
        "print(\"len(web) = \",len(web))\n",
        "print(web[:100])"
      ],
      "execution_count": 8,
      "outputs": [
        {
          "output_type": "stream",
          "text": [
            "len(web) =  16967\n",
            "['SCENE', '1', ':', '[', 'wind', ']', '[', 'clop', 'clop', 'clop', ']', 'KING', 'ARTHUR', ':', 'Whoa', 'there', '!', '[', 'clop', 'clop', 'clop', ']', 'SOLDIER', '#', '1', ':', 'Halt', '!', 'Who', 'goes', 'there', '?', 'ARTHUR', ':', 'It', 'is', 'I', ',', 'Arthur', ',', 'son', 'of', 'Uther', 'Pendragon', ',', 'from', 'the', 'castle', 'of', 'Camelot', '.', 'King', 'of', 'the', 'Britons', ',', 'defeator', 'of', 'the', 'Saxons', ',', 'sovereign', 'of', 'all', 'England', '!', 'SOLDIER', '#', '1', ':', 'Pull', 'the', 'other', 'one', '!', 'ARTHUR', ':', 'I', 'am', ',', '...', 'and', 'this', 'is', 'my', 'trusty', 'servant', 'Patsy', '.', 'We', 'have', 'ridden', 'the', 'length', 'and', 'breadth', 'of', 'the', 'land', 'in']\n"
          ],
          "name": "stdout"
        }
      ]
    },
    {
      "metadata": {
        "id": "WWm4N0Of5XxF",
        "colab_type": "code",
        "colab": {
          "base_uri": "https://localhost:8080/",
          "height": 255
        },
        "outputId": "4587665a-2ecf-4581-c565-c82c32240513"
      },
      "cell_type": "code",
      "source": [
        "nltk.word_tokenize(\"the man, he ran after it's $3.23 dog on 15/01/2019.\") "
      ],
      "execution_count": 9,
      "outputs": [
        {
          "output_type": "execute_result",
          "data": {
            "text/plain": [
              "['the',\n",
              " 'man',\n",
              " ',',\n",
              " 'he',\n",
              " 'ran',\n",
              " 'after',\n",
              " 'it',\n",
              " \"'s\",\n",
              " '$',\n",
              " '3.23',\n",
              " 'dog',\n",
              " 'on',\n",
              " '15/01/2019',\n",
              " '.']"
            ]
          },
          "metadata": {
            "tags": []
          },
          "execution_count": 9
        }
      ]
    },
    {
      "metadata": {
        "id": "fdVMpP4csIPF",
        "colab_type": "code",
        "colab": {
          "base_uri": "https://localhost:8080/",
          "height": 34
        },
        "outputId": "e567242d-3777-44b8-ce73-578a0c9492dd"
      },
      "cell_type": "code",
      "source": [
        "nltk.sent_tokenize(\"The man ran after it. The table down there? Yes, down there!\")"
      ],
      "execution_count": 10,
      "outputs": [
        {
          "output_type": "execute_result",
          "data": {
            "text/plain": [
              "['The man ran after it.', 'The table down there?', 'Yes, down there!']"
            ]
          },
          "metadata": {
            "tags": []
          },
          "execution_count": 10
        }
      ]
    },
    {
      "metadata": {
        "id": "py1i4zLj4Ls7",
        "colab_type": "text"
      },
      "cell_type": "markdown",
      "source": [
        "**Stopword Removal**"
      ]
    },
    {
      "metadata": {
        "id": "XFmSKHrV4VTU",
        "colab_type": "code",
        "colab": {
          "base_uri": "https://localhost:8080/",
          "height": 34
        },
        "outputId": "1d24318b-7bfd-4d6c-e480-75d79100b04d"
      },
      "cell_type": "code",
      "source": [
        "stoppers = \"a is of the this\".split()\n",
        "\n",
        "def RemoveStopWords(StopWords, txt):\n",
        "  newtxt = ' '.join([word for word in txt.split() if word not in StopWords])\n",
        "  return newtxt\n",
        "\n",
        "RemoveStopWords(stoppers, \"This is a test of the stop word removal code.\")"
      ],
      "execution_count": 11,
      "outputs": [
        {
          "output_type": "execute_result",
          "data": {
            "text/plain": [
              "'This test stop word removal code.'"
            ]
          },
          "metadata": {
            "tags": []
          },
          "execution_count": 11
        }
      ]
    },
    {
      "metadata": {
        "id": "fOOJ42EX5NHB",
        "colab_type": "code",
        "colab": {
          "base_uri": "https://localhost:8080/",
          "height": 88
        },
        "outputId": "04177437-b262-40ff-fbe0-3771dc660ff1"
      },
      "cell_type": "code",
      "source": [
        "from nltk.corpus import stopwords\n",
        "\n",
        "print(stopwords.fileids())\n",
        "\n",
        "stops = stopwords.words(\"english\")\n",
        "\n",
        "print(\"len(stops) = \",len(stops))\n",
        "\n",
        "RemoveStopWords(stops, \"This is a test of the stop word removal code.\")"
      ],
      "execution_count": 12,
      "outputs": [
        {
          "output_type": "stream",
          "text": [
            "['arabic', 'azerbaijani', 'danish', 'dutch', 'english', 'finnish', 'french', 'german', 'greek', 'hungarian', 'indonesian', 'italian', 'kazakh', 'nepali', 'norwegian', 'portuguese', 'romanian', 'russian', 'spanish', 'swedish', 'turkish']\n",
            "len(stops) =  179\n"
          ],
          "name": "stdout"
        },
        {
          "output_type": "execute_result",
          "data": {
            "text/plain": [
              "'This test stop word removal code.'"
            ]
          },
          "metadata": {
            "tags": []
          },
          "execution_count": 12
        }
      ]
    },
    {
      "metadata": {
        "id": "WZVoVwpy6xKD",
        "colab_type": "text"
      },
      "cell_type": "markdown",
      "source": [
        "**Case removal**"
      ]
    },
    {
      "metadata": {
        "id": "mkfMRo8X6zQE",
        "colab_type": "code",
        "colab": {
          "base_uri": "https://localhost:8080/",
          "height": 34
        },
        "outputId": "344f6c10-3143-480a-f2e9-12f16eb0a60c"
      },
      "cell_type": "code",
      "source": [
        "s = \"The man ran after it. The table down there? Yes, down there!\"\n",
        "s.lower()"
      ],
      "execution_count": 13,
      "outputs": [
        {
          "output_type": "execute_result",
          "data": {
            "text/plain": [
              "'the man ran after it. the table down there? yes, down there!'"
            ]
          },
          "metadata": {
            "tags": []
          },
          "execution_count": 13
        }
      ]
    },
    {
      "metadata": {
        "id": "msmv6JnK7FH8",
        "colab_type": "text"
      },
      "cell_type": "markdown",
      "source": [
        "**Stemming**"
      ]
    },
    {
      "metadata": {
        "id": "Oma119pt7GVe",
        "colab_type": "code",
        "colab": {
          "base_uri": "https://localhost:8080/",
          "height": 68
        },
        "outputId": "bc9e2e75-37a0-4860-89ec-a53f659dc0ab"
      },
      "cell_type": "code",
      "source": [
        "def stem_with_porter(words):\n",
        "  porter = nltk.PorterStemmer()\n",
        "  new_words = [porter.stem(w) for w in words]\n",
        "  return new_words\n",
        "\n",
        "def stem_with_lancaster(words):\n",
        "  porter = nltk.LancasterStemmer()\n",
        "  new_words = [porter.stem(w) for w in words]\n",
        "  return new_words\n",
        "\n",
        "str = \"I love to swim. I also love playing basketball, but right now I'm very tired.\"\n",
        "\n",
        "print(\"porter : \", stem_with_porter(str.split()))\n",
        "print()\n",
        "print(\"lancaster : \", stem_with_lancaster(str.split()))"
      ],
      "execution_count": 14,
      "outputs": [
        {
          "output_type": "stream",
          "text": [
            "porter :  ['I', 'love', 'to', 'swim.', 'I', 'also', 'love', 'play', 'basketball,', 'but', 'right', 'now', \"i'm\", 'veri', 'tired.']\n",
            "\n",
            "lancaster :  ['i', 'lov', 'to', 'swim.', 'i', 'also', 'lov', 'play', 'basketball,', 'but', 'right', 'now', \"i'm\", 'very', 'tired.']\n"
          ],
          "name": "stdout"
        }
      ]
    },
    {
      "metadata": {
        "id": "KVMPRCKGUi_y",
        "colab_type": "text"
      },
      "cell_type": "markdown",
      "source": [
        "**Text Exploration**"
      ]
    },
    {
      "metadata": {
        "id": "JK7zAMDbUoz-",
        "colab_type": "text"
      },
      "cell_type": "markdown",
      "source": [
        "Frequency Analysis"
      ]
    },
    {
      "metadata": {
        "id": "6ogl_mfxUrTh",
        "colab_type": "code",
        "colab": {
          "base_uri": "https://localhost:8080/",
          "height": 333
        },
        "outputId": "96d140fe-a1c1-49b5-f8a6-4652592890f8"
      },
      "cell_type": "code",
      "source": [
        "import nltk\n",
        "from nltk.corpus import gutenberg\n",
        "from nltk.probability import FreqDist\n",
        "\n",
        "raw = gutenberg.raw(\"austen-sense.txt\")\n",
        "fd_letters = FreqDist(raw)\n",
        "\n",
        "words = gutenberg.words(\"austen-sense.txt\")\n",
        "fd_words = FreqDist(words)\n",
        "\n",
        "sas = nltk.Text(words)\n",
        "\n",
        "import matplotlib.pyplot as plt\n",
        "plt.figure(figsize=(20,5))\n",
        "fd_letters.plot(100)"
      ],
      "execution_count": 15,
      "outputs": [
        {
          "output_type": "display_data",
          "data": {
            "image/png": "[encoded data removed]",
            "text/plain": [
              "<matplotlib.figure.Figure at 0x7fb0270b2c88>"
            ]
          },
          "metadata": {
            "tags": []
          }
        }
      ]
    },
    {
      "metadata": {
        "id": "CrYRKHLTVurg",
        "colab_type": "code",
        "colab": {
          "base_uri": "https://localhost:8080/",
          "height": 373
        },
        "outputId": "8068c8ff-9b8e-4de9-c9ed-65af8cfe6ce4"
      },
      "cell_type": "code",
      "source": [
        "import matplotlib.pyplot as plt\n",
        "plt.figure(figsize=(20,5))\n",
        "fd_words.plot(100)"
      ],
      "execution_count": 16,
      "outputs": [
        {
          "output_type": "display_data",
          "data": {
            "image/png": "[encoded data removed]",
            "text/plain": [
              "<matplotlib.figure.Figure at 0x7fb026759c18>"
            ]
          },
          "metadata": {
            "tags": []
          }
        }
      ]
    },
    {
      "metadata": {
        "id": "XexX6AmUWHmA",
        "colab_type": "text"
      },
      "cell_type": "markdown",
      "source": [
        "Collocations"
      ]
    },
    {
      "metadata": {
        "id": "dEwn95IWWJ-F",
        "colab_type": "code",
        "colab": {
          "base_uri": "https://localhost:8080/",
          "height": 85
        },
        "outputId": "c99cad51-e537-4074-e3ba-07556c06a684"
      },
      "cell_type": "code",
      "source": [
        "sas.collocations()"
      ],
      "execution_count": 17,
      "outputs": [
        {
          "output_type": "stream",
          "text": [
            "Colonel Brandon; Sir John; Lady Middleton; Miss Dashwood; every thing;\n",
            "thousand pounds; dare say; Miss Steeles; said Elinor; Miss Steele;\n",
            "every body; John Dashwood; great deal; Harley Street; Berkeley Street;\n",
            "Miss Dashwoods; young man; Combe Magna; every day; next morning\n"
          ],
          "name": "stdout"
        }
      ]
    },
    {
      "metadata": {
        "id": "kPIc-ieNWbmz",
        "colab_type": "text"
      },
      "cell_type": "markdown",
      "source": [
        "Long words"
      ]
    },
    {
      "metadata": {
        "id": "Dlo4jDO_WeDE",
        "colab_type": "code",
        "colab": {
          "base_uri": "https://localhost:8080/",
          "height": 272
        },
        "outputId": "463c32b7-f5c6-4d82-a2d2-57de501b5f4d"
      },
      "cell_type": "code",
      "source": [
        "LongWords = [w for w in set(words) if len(w)>13]\n",
        "LongWords[:15]"
      ],
      "execution_count": 18,
      "outputs": [
        {
          "output_type": "execute_result",
          "data": {
            "text/plain": [
              "['encouragements',\n",
              " 'unacknowledged',\n",
              " 'aggrandizement',\n",
              " 'thoughtfulness',\n",
              " 'considerations',\n",
              " 'unsuitableness',\n",
              " 'demonstrations',\n",
              " 'correspondence',\n",
              " 'acknowledgments',\n",
              " 'acknowledgment',\n",
              " 'connoisseurship',\n",
              " 'inconsiderable',\n",
              " 'qualifications',\n",
              " 'inconsiderately',\n",
              " 'insignificance']"
            ]
          },
          "metadata": {
            "tags": []
          },
          "execution_count": 18
        }
      ]
    },
    {
      "metadata": {
        "id": "fj5g8km2XJtw",
        "colab_type": "text"
      },
      "cell_type": "markdown",
      "source": [
        "Concordance Views"
      ]
    },
    {
      "metadata": {
        "id": "27VHy_7uXMeB",
        "colab_type": "code",
        "colab": {
          "base_uri": "https://localhost:8080/",
          "height": 629
        },
        "outputId": "f0d36969-ed1c-400b-8b23-4811c4db170f"
      },
      "cell_type": "code",
      "source": [
        "sas.concordance(\"affectionately\")\n",
        "print()\n",
        "\n",
        "sas.concordance(\"correspondence\")\n",
        "print()\n",
        "\n",
        "sas.concordance(\"dare\")"
      ],
      "execution_count": 19,
      "outputs": [
        {
          "output_type": "stream",
          "text": [
            "Displaying 2 of 2 matches:\n",
            "before . She took them all most affectionately by the hand , and expressed gre\n",
            "ed , took her hand , kissed her affectionately several times , and then gave w\n",
            "\n",
            "Displaying 4 of 4 matches:\n",
            "ould not be maintained if their correspondence were to pass through Sir John '\n",
            "ve been Edward ' s gift ; but a correspondence between them by letter , could \n",
            "she had no doubt , and of their correspondence she was not astonished to hear \n",
            "e of Edward afforded her by the correspondence , for his name was not even men\n",
            "\n",
            "Displaying 25 of 36 matches:\n",
            " not know what he was talking of , I dare say ; ten to one but he was light - \n",
            "l . The assistance he thought of , I dare say , was only such as might be reas\n",
            "g , if I have plenty of money , as I dare say I shall , we may think about bui\n",
            ", you will make conquests enough , I dare say , one way or other . Poor Brando\n",
            "e . He is the curate of the parish I dare say .\" \" No , THAT he is not . He is\n",
            "m . He was afraid of catching cold I dare say , and invented this trick for ge\n",
            "ve it in my power to return , that I dare not engage for it at all .\" \" Oh ! h\n",
            "and as like him as she can stare . I dare say the Colonel will leave her all h\n",
            "t Miss Williams and , by the bye , I dare say it is , because he looked so con\n",
            " \" are of such a nature -- that -- I dare not flatter myself \"-- He stopt . Mr\n",
            "nd MY wealth are very much alike , I dare say ; and without them , as the worl\n",
            " unites beauty with utility -- and I dare say it is a picturesque one too , be\n",
            ", you know . Not above ten miles , I dare say .\" \" Much nearer thirty ,\" said \n",
            "h my uncle at Weymouth . However , I dare say we should have seen a great deal\n",
            "t if mama had not objected to it , I dare say he would have liked it of all th\n",
            "ill think my question an odd one , I dare say ,\" said Lucy to her one day , as\n",
            "an inquiry into her character .\" \" I dare say you are , and I am sure I do not\n",
            "ave had no idea of it before ; for I dare say he never dropped the smallest hi\n",
            "or she would never approve of it , I dare say . I shall have no fortune , and \n",
            " to Elinor . \" You know his hand , I dare say , a charming one it is ; but tha\n",
            "o well as usual .-- He was tired , I dare say , for he had just filled the she\n",
            "talking of their favourite beaux , I dare say .\" \" No sister ,\" cried Lucy , \"\n",
            "ng significantly round at them , \" I dare say Lucy ' s beau is quite as modest\n",
            " , for you are a party concerned . I dare say you have seen enough of Edward t\n",
            "h pleasure to meet you there ! But I dare say you will go for all that . To be\n"
          ],
          "name": "stdout"
        }
      ]
    },
    {
      "metadata": {
        "id": "yktdq5yaXzVm",
        "colab_type": "text"
      },
      "cell_type": "markdown",
      "source": [
        "Other Exploration Views"
      ]
    },
    {
      "metadata": {
        "id": "421a3OQzX2fH",
        "colab_type": "code",
        "colab": {
          "base_uri": "https://localhost:8080/",
          "height": 51
        },
        "outputId": "f8a7f037-f49a-4951-a526-5403b6dc69aa"
      },
      "cell_type": "code",
      "source": [
        "sas.similar(\"affection\")"
      ],
      "execution_count": 20,
      "outputs": [
        {
          "output_type": "stream",
          "text": [
            "attention time regard mother love heart opinion sister wishes wife\n",
            "arrival marianne kindness family it marriage sisters sake conduct mind\n"
          ],
          "name": "stdout"
        }
      ]
    },
    {
      "metadata": {
        "id": "KnXqnBCHX53d",
        "colab_type": "code",
        "colab": {
          "base_uri": "https://localhost:8080/",
          "height": 376
        },
        "outputId": "dc0f4f71-c9fe-43e0-c48e-046066ed9550"
      },
      "cell_type": "code",
      "source": [
        "import numpy as np\n",
        "import matplotlib.pyplot as plt\n",
        "\n",
        "from nltk.draw.dispersion import dispersion_plot\n",
        "\n",
        "dispersion_plot(words,['sense','love','heart','listen','man','woman'])\n",
        "# Dont know what's the problem. Maybe something in google colab.\n",
        "plt.show()"
      ],
      "execution_count": 21,
      "outputs": [
        {
          "output_type": "display_data",
          "data": {
            "image/png": "[encoded data removed]",
            "text/plain": [
              "<matplotlib.figure.Figure at 0x7fb01fd2e240>"
            ]
          },
          "metadata": {
            "tags": []
          }
        }
      ]
    },
    {
      "metadata": {
        "id": "HMHpSoZLpk7j",
        "colab_type": "text"
      },
      "cell_type": "markdown",
      "source": [
        "**Building Features**"
      ]
    },
    {
      "metadata": {
        "id": "0YHZOI4BpoD3",
        "colab_type": "text"
      },
      "cell_type": "markdown",
      "source": [
        "Bag of Words(BOW)"
      ]
    },
    {
      "metadata": {
        "id": "UiRpUkSAp70l",
        "colab_type": "text"
      },
      "cell_type": "markdown",
      "source": [
        "N-Grams"
      ]
    },
    {
      "metadata": {
        "id": "zw1znrEOp9ZD",
        "colab_type": "text"
      },
      "cell_type": "markdown",
      "source": [
        "Morphological Parsing"
      ]
    },
    {
      "metadata": {
        "id": "40FDLs7NqmyZ",
        "colab_type": "text"
      },
      "cell_type": "markdown",
      "source": [
        "Term Document Inverse Document Frequency(TD/IDF)"
      ]
    },
    {
      "metadata": {
        "id": "SyZNAIyvrJqe",
        "colab_type": "text"
      },
      "cell_type": "markdown",
      "source": [
        "Word Sense Diambiguation(WSD)"
      ]
    },
    {
      "metadata": {
        "id": "Axien345siYa",
        "colab_type": "text"
      },
      "cell_type": "markdown",
      "source": [
        "Anaphora Resolution"
      ]
    },
    {
      "metadata": {
        "id": "QBSNt68wsmGE",
        "colab_type": "text"
      },
      "cell_type": "markdown",
      "source": [
        "Part-of-Speech(POS) Tagging\n",
        "\n",
        "Tagsets :-\n",
        "\n",
        "*   Brown corpus (87 tags)\n",
        "*   C5 tagset (61 tags)\n",
        "*   Penn Treebank (45 tags)\n",
        "\n",
        "Types of Taggers :-\n",
        "\n",
        "*   Rule-based (eg. Regular expression)\n",
        "*   Lookup (Unigram)\n",
        "*   N-Gram\n",
        "*   Hybrid and Backoff\n",
        "*   Brill Tagger\n",
        "*   HMM Tagger (Hidden Markov Model)"
      ]
    },
    {
      "metadata": {
        "id": "UDjkw1tJVTjI",
        "colab_type": "code",
        "colab": {
          "base_uri": "https://localhost:8080/",
          "height": 34
        },
        "outputId": "ef5b9d98-ccaf-46fb-ea6b-bf423ac62ab0"
      },
      "cell_type": "code",
      "source": [
        "nltk.pos_tag(\"Hello! How you doin?\".split())"
      ],
      "execution_count": 23,
      "outputs": [
        {
          "output_type": "execute_result",
          "data": {
            "text/plain": [
              "[('Hello!', 'NNP'), ('How', 'NNP'), ('you', 'PRP'), ('doin?', 'VBP')]"
            ]
          },
          "metadata": {
            "tags": []
          },
          "execution_count": 23
        }
      ]
    },
    {
      "metadata": {
        "id": "Aqdi4RrAaYHp",
        "colab_type": "code",
        "colab": {
          "base_uri": "https://localhost:8080/",
          "height": 187
        },
        "outputId": "03f6f5a2-84d9-45c8-cdf6-bf7e58b49778"
      },
      "cell_type": "code",
      "source": [
        "nltk.pos_tag(\"They refuse to permit us to obtain the refuse permit\".split())"
      ],
      "execution_count": 25,
      "outputs": [
        {
          "output_type": "execute_result",
          "data": {
            "text/plain": [
              "[('They', 'PRP'),\n",
              " ('refuse', 'VBP'),\n",
              " ('to', 'TO'),\n",
              " ('permit', 'VB'),\n",
              " ('us', 'PRP'),\n",
              " ('to', 'TO'),\n",
              " ('obtain', 'VB'),\n",
              " ('the', 'DT'),\n",
              " ('refuse', 'NN'),\n",
              " ('permit', 'NN')]"
            ]
          },
          "metadata": {
            "tags": []
          },
          "execution_count": 25
        }
      ]
    },
    {
      "metadata": {
        "id": "OcmGs5dmc6hy",
        "colab_type": "text"
      },
      "cell_type": "markdown",
      "source": [
        "**Classical NLP Applications**"
      ]
    },
    {
      "metadata": {
        "id": "5QauaiWcc_UE",
        "colab_type": "text"
      },
      "cell_type": "markdown",
      "source": [
        "Name Gender Classifier"
      ]
    },
    {
      "metadata": {
        "id": "lmmYGyFOdCCY",
        "colab_type": "code",
        "colab": {
          "base_uri": "https://localhost:8080/",
          "height": 561
        },
        "outputId": "39823a54-911c-4635-c91e-87e44158edca"
      },
      "cell_type": "code",
      "source": [
        "import nltk \n",
        "\n",
        "names = [(name, 'male') for name in nltk.corpus.names.words(\"male.txt\")]\n",
        "names += [(name, 'female') for name in nltk.corpus.names.words(\"female.txt\")]\n",
        "\n",
        "def extract_gender_features(name):\n",
        "  name = name.lower()\n",
        "  features = {}\n",
        "  features[\"suffix\"] = name[-1:]\n",
        "  features[\"suffix2\"] = name[-2:] if len(name)>1 else name[0]\n",
        "  features[\"suffix3\"] = name[-3:] if len(name)>2 else name[0]\n",
        "  features[\"prefix\"] = name[:1]\n",
        "  features[\"prefix2\"] = name[:2] if len(name)>1 else name[0]\n",
        "  features[\"prefix3\"] = name[:3] if len(name)>2 else name[0]\n",
        "  features[\"prefix4\"] = name[:4] if len(name)>3 else name[0]\n",
        "  features[\"prefix5\"] = name[:5] if len(name)>4 else name[0]\n",
        "  \n",
        "  return features\n",
        "\n",
        "data = [(extract_gender_features(name),gender) for (name,gender) in names]\n",
        "\n",
        "import random\n",
        "random.shuffle(data)\n",
        "\n",
        "dataCount = len(data)\n",
        "trainCount = int(.8*dataCount)\n",
        "\n",
        "trainData = data[:trainCount]\n",
        "testData = data[trainCount:]\n",
        "\n",
        "bayes = nltk.NaiveBayesClassifier.train(trainData)\n",
        "\n",
        "def classify(name):\n",
        "  label = bayes.classify(extract_gender_features(name))\n",
        "  print(\"name = \",name,\"classified as = \",label)\n",
        "  return\n",
        "\n",
        "print(\"trainData accuracy = \",nltk.classify.accuracy(bayes, trainData))\n",
        "print(\"testData accuracy = \",nltk.classify.accuracy(bayes, testData))\n",
        "\n",
        "classify('alex')\n",
        "classify('alexa')\n",
        "classify('david')\n",
        "classify('susan')\n",
        "\n",
        "bayes.show_most_informative_features(25)"
      ],
      "execution_count": 38,
      "outputs": [
        {
          "output_type": "stream",
          "text": [
            "trainData accuracy =  0.9217938630999213\n",
            "testData accuracy =  0.8458149779735683\n",
            "name =  alex classified as =  male\n",
            "name =  alexa classified as =  female\n",
            "name =  david classified as =  male\n",
            "name =  susan classified as =  female\n",
            "Most Informative Features\n",
            "                 suffix2 = 'na'           female : male   =     86.8 : 1.0\n",
            "                 suffix2 = 'ta'           female : male   =     63.3 : 1.0\n",
            "                 suffix2 = 'la'           female : male   =     62.1 : 1.0\n",
            "                  suffix = 'k'              male : female =     52.0 : 1.0\n",
            "                  suffix = 'a'            female : male   =     37.2 : 1.0\n",
            "                 suffix2 = 'ia'           female : male   =     33.1 : 1.0\n",
            "                 suffix2 = 'sa'           female : male   =     30.4 : 1.0\n",
            "                 suffix2 = 'rt'             male : female =     28.6 : 1.0\n",
            "                 suffix2 = 'rd'             male : female =     28.1 : 1.0\n",
            "                 suffix3 = 'nne'          female : male   =     26.2 : 1.0\n",
            "                 suffix2 = 'us'             male : female =     25.2 : 1.0\n",
            "                 suffix3 = 'ard'            male : female =     24.7 : 1.0\n",
            "                 suffix2 = 'io'             male : female =     24.1 : 1.0\n",
            "                 suffix3 = 'ana'          female : male   =     23.7 : 1.0\n",
            "                 suffix2 = 'ra'           female : male   =     23.4 : 1.0\n",
            "                 suffix3 = 'ita'          female : male   =     22.0 : 1.0\n",
            "                 suffix2 = 'ch'             male : female =     21.8 : 1.0\n",
            "                 suffix2 = 'ld'             male : female =     20.5 : 1.0\n",
            "                 suffix2 = 'do'             male : female =     19.6 : 1.0\n",
            "                 suffix3 = 'ert'            male : female =     16.6 : 1.0\n",
            "                 suffix3 = 'old'            male : female =     16.2 : 1.0\n",
            "                 prefix3 = 'ros'          female : male   =     15.5 : 1.0\n",
            "                 suffix3 = 'son'            male : female =     13.6 : 1.0\n",
            "                 suffix3 = 'dra'          female : male   =     13.0 : 1.0\n",
            "                 prefix3 = 'mel'          female : male   =     13.0 : 1.0\n"
          ],
          "name": "stdout"
        }
      ]
    },
    {
      "metadata": {
        "id": "poa0ywZ3fj-i",
        "colab_type": "code",
        "colab": {
          "base_uri": "https://localhost:8080/",
          "height": 442
        },
        "outputId": "188a498d-cd0e-4368-ed03-cf2058600e89"
      },
      "cell_type": "code",
      "source": [
        "errors = []\n",
        "\n",
        "for (name,label) in names:\n",
        "  if bayes.classify(extract_gender_features(name)) !=label:\n",
        "    errors.append({\"name : \":name,\"label : \":label})\n",
        "    \n",
        "errors[:25]"
      ],
      "execution_count": 45,
      "outputs": [
        {
          "output_type": "execute_result",
          "data": {
            "text/plain": [
              "[{'label : ': 'male', 'name : ': 'Ace'},\n",
              " {'label : ': 'male', 'name : ': 'Aditya'},\n",
              " {'label : ': 'male', 'name : ': 'Adrien'},\n",
              " {'label : ': 'male', 'name : ': 'Alaa'},\n",
              " {'label : ': 'male', 'name : ': 'Ali'},\n",
              " {'label : ': 'male', 'name : ': 'Alix'},\n",
              " {'label : ': 'male', 'name : ': 'Allen'},\n",
              " {'label : ': 'male', 'name : ': 'Alley'},\n",
              " {'label : ': 'male', 'name : ': 'Allie'},\n",
              " {'label : ': 'male', 'name : ': 'Allin'},\n",
              " {'label : ': 'male', 'name : ': 'Allyn'},\n",
              " {'label : ': 'male', 'name : ': 'Ambrosi'},\n",
              " {'label : ': 'male', 'name : ': 'Andre'},\n",
              " {'label : ': 'male', 'name : ': 'Andrea'},\n",
              " {'label : ': 'male', 'name : ': 'Andri'},\n",
              " {'label : ': 'male', 'name : ': 'Andy'},\n",
              " {'label : ': 'male', 'name : ': 'Angel'},\n",
              " {'label : ': 'male', 'name : ': 'Antoine'},\n",
              " {'label : ': 'male', 'name : ': 'Antone'},\n",
              " {'label : ': 'male', 'name : ': 'Antoni'},\n",
              " {'label : ': 'male', 'name : ': 'Arel'},\n",
              " {'label : ': 'male', 'name : ': 'Ari'},\n",
              " {'label : ': 'male', 'name : ': 'Arie'},\n",
              " {'label : ': 'male', 'name : ': 'Ariel'},\n",
              " {'label : ': 'male', 'name : ': 'Ashley'}]"
            ]
          },
          "metadata": {
            "tags": []
          },
          "execution_count": 45
        }
      ]
    },
    {
      "metadata": {
        "id": "Elqj2zGYjgbK",
        "colab_type": "text"
      },
      "cell_type": "markdown",
      "source": [
        "Sentiment Analysis"
      ]
    },
    {
      "metadata": {
        "id": "C69Zsf6bji7N",
        "colab_type": "code",
        "colab": {}
      },
      "cell_type": "code",
      "source": [
        "from nltk.corpus import movie_reviews as reviews\n",
        "import random\n",
        "\n",
        "docs = [(list(reviews.words(id)),cat) for cat in reviews.categories() for id in reviews.fileids(cat)]\n",
        "random.shuffle(docs)\n",
        "\n",
        "fd = nltk.FreqDist(word.lower() for word in reviews.words())\n",
        "topKeys = [key for (key,value) in fd.most_common(2000)]"
      ],
      "execution_count": 0,
      "outputs": []
    },
    {
      "metadata": {
        "id": "P59zU2iSla2S",
        "colab_type": "code",
        "colab": {
          "base_uri": "https://localhost:8080/",
          "height": 408
        },
        "outputId": "f6b53fa2-4d57-40f5-9de1-ef80580db489"
      },
      "cell_type": "code",
      "source": [
        "import nltk\n",
        "\n",
        "def review_features(doc):\n",
        "  docSet = set(doc)\n",
        "  features = {}\n",
        "  \n",
        "  for word in topKeys:\n",
        "    features[word] = (word in docSet)\n",
        "  \n",
        "  return features\n",
        "\n",
        "data = [(review_features(doc),label) for (doc,label) in docs]\n",
        "\n",
        "dataCount = len(data)\n",
        "trainCount = int(.8*dataCount)\n",
        "\n",
        "trainData = data[:trainCount]\n",
        "testData = data[trainCount:]\n",
        "\n",
        "bayes2 = nltk.NaiveBayesClassifier.train(trainData)\n",
        "\n",
        "print(\"trainData accuracy = \",nltk.classify.accuracy(bayes2, trainData))\n",
        "print(\"testData accuracy = \",nltk.classify.accuracy(bayes2, testData))\n",
        "\n",
        "bayes2.show_most_informative_features(20)"
      ],
      "execution_count": 44,
      "outputs": [
        {
          "output_type": "stream",
          "text": [
            "trainData accuracy =  0.873125\n",
            "testData accuracy =  0.825\n",
            "Most Informative Features\n",
            "                  seagal = True              neg : pos    =     12.0 : 1.0\n",
            "             outstanding = True              pos : neg    =     10.7 : 1.0\n",
            "                   damon = True              pos : neg    =      9.9 : 1.0\n",
            "             wonderfully = True              pos : neg    =      6.7 : 1.0\n",
            "                   mulan = True              pos : neg    =      5.5 : 1.0\n",
            "                  wasted = True              neg : pos    =      5.1 : 1.0\n",
            "                   waste = True              neg : pos    =      4.9 : 1.0\n",
            "                   flynt = True              pos : neg    =      4.9 : 1.0\n",
            "                    lame = True              neg : pos    =      4.8 : 1.0\n",
            "                   awful = True              neg : pos    =      4.7 : 1.0\n",
            "              ridiculous = True              neg : pos    =      4.7 : 1.0\n",
            "                  poorly = True              neg : pos    =      4.6 : 1.0\n",
            "                    dull = True              neg : pos    =      4.4 : 1.0\n",
            "                   bland = True              neg : pos    =      4.2 : 1.0\n",
            "                   worst = True              neg : pos    =      4.1 : 1.0\n",
            "                   badly = True              neg : pos    =      4.1 : 1.0\n",
            "                   julie = True              neg : pos    =      4.0 : 1.0\n",
            "                  stupid = True              neg : pos    =      4.0 : 1.0\n",
            "                    tony = True              pos : neg    =      3.9 : 1.0\n",
            "                    mess = True              neg : pos    =      3.9 : 1.0\n"
          ],
          "name": "stdout"
        }
      ]
    }
  ]
}